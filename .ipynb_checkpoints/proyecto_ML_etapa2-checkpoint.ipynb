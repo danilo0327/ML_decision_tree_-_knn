{
 "cells": [
  {
   "cell_type": "markdown",
   "metadata": {},
   "source": [
    "# Etapa 2 del proyecto. La tarea de clasificación: árboles de decisión y K-vecinos más cercanos"
   ]
  },
  {
   "cell_type": "markdown",
   "metadata": {},
   "source": [
    "Este es un proyecto en donde se evaluan 2 modelos de machine learning (árboles de decisión y k-vecinos más cercanos), los cuales permiten estimar la calidad del agua (que sea potable para la población) de una zona determinada a partir de caracteristicas fisicoquimicas.\n",
    "\n",
    "**Librerias a usar.**\n",
    "\n",
    "Para poder crear, probar y evaluar estos modelos es necesario que se importen las librerias que se van a manejar."
   ]
  },
  {
   "cell_type": "code",
   "execution_count": 1,
   "metadata": {},
   "outputs": [
    {
     "name": "stderr",
     "output_type": "stream",
     "text": [
      "C:\\Python311\\Lib\\site-packages\\tqdm\\auto.py:21: TqdmWarning: IProgress not found. Please update jupyter and ipywidgets. See https://ipywidgets.readthedocs.io/en/stable/user_install.html\n",
      "  from .autonotebook import tqdm as notebook_tqdm\n"
     ]
    }
   ],
   "source": [
    "import pandas as pd\n",
    "\n",
    "from ydata_profiling import ProfileReport"
   ]
  },
  {
   "cell_type": "markdown",
   "metadata": {},
   "source": [
    "## 1. Exploración y perfilamiento de datos.\n",
    "En esta etapa se cargan los datos, los cuales se exploraran para observar si existen valores duplicados, valores nulos o incongruencia entre los datos y el diccionario de datos."
   ]
  },
  {
   "cell_type": "markdown",
   "metadata": {},
   "source": [
    "### 1.1 Carga de datos\n",
    "Aqui se cargan los datos que se van a evaluar, para lograr determinar las variables (categoricas y numericas) que van a ser usadas en el modelo de clasificación."
   ]
  },
  {
   "cell_type": "code",
   "execution_count": 4,
   "metadata": {},
   "outputs": [
    {
     "data": {
      "text/html": [
       "<div>\n",
       "<style scoped>\n",
       "    .dataframe tbody tr th:only-of-type {\n",
       "        vertical-align: middle;\n",
       "    }\n",
       "\n",
       "    .dataframe tbody tr th {\n",
       "        vertical-align: top;\n",
       "    }\n",
       "\n",
       "    .dataframe thead th {\n",
       "        text-align: right;\n",
       "    }\n",
       "</style>\n",
       "<table border=\"1\" class=\"dataframe\">\n",
       "  <thead>\n",
       "    <tr style=\"text-align: right;\">\n",
       "      <th></th>\n",
       "      <th>pH</th>\n",
       "      <th>Dureza</th>\n",
       "      <th>Sólidos</th>\n",
       "      <th>Cloraminas</th>\n",
       "      <th>Sulfatos</th>\n",
       "      <th>Conductividad</th>\n",
       "      <th>Carbono_orgánico</th>\n",
       "      <th>Trihalometanos</th>\n",
       "      <th>Turbidez</th>\n",
       "      <th>Potabilidad</th>\n",
       "    </tr>\n",
       "  </thead>\n",
       "  <tbody>\n",
       "    <tr>\n",
       "      <th>0</th>\n",
       "      <td>NaN</td>\n",
       "      <td>204.89</td>\n",
       "      <td>20791.32</td>\n",
       "      <td>7.30</td>\n",
       "      <td>368.52</td>\n",
       "      <td>564.31</td>\n",
       "      <td>10.38</td>\n",
       "      <td>86.99</td>\n",
       "      <td>2.96</td>\n",
       "      <td>NO</td>\n",
       "    </tr>\n",
       "    <tr>\n",
       "      <th>1</th>\n",
       "      <td>3.72</td>\n",
       "      <td>129.42</td>\n",
       "      <td>18630.06</td>\n",
       "      <td>6.64</td>\n",
       "      <td>NaN</td>\n",
       "      <td>592.89</td>\n",
       "      <td>15.18</td>\n",
       "      <td>56.33</td>\n",
       "      <td>4.50</td>\n",
       "      <td>NO</td>\n",
       "    </tr>\n",
       "    <tr>\n",
       "      <th>2</th>\n",
       "      <td>8.10</td>\n",
       "      <td>224.24</td>\n",
       "      <td>19909.54</td>\n",
       "      <td>9.28</td>\n",
       "      <td>NaN</td>\n",
       "      <td>418.61</td>\n",
       "      <td>16.87</td>\n",
       "      <td>66.42</td>\n",
       "      <td>3.06</td>\n",
       "      <td>NO</td>\n",
       "    </tr>\n",
       "    <tr>\n",
       "      <th>3</th>\n",
       "      <td>8.32</td>\n",
       "      <td>214.37</td>\n",
       "      <td>22018.42</td>\n",
       "      <td>8.06</td>\n",
       "      <td>356.89</td>\n",
       "      <td>363.27</td>\n",
       "      <td>18.44</td>\n",
       "      <td>100.34</td>\n",
       "      <td>4.63</td>\n",
       "      <td>NO</td>\n",
       "    </tr>\n",
       "    <tr>\n",
       "      <th>4</th>\n",
       "      <td>9.09</td>\n",
       "      <td>181.10</td>\n",
       "      <td>17978.99</td>\n",
       "      <td>6.55</td>\n",
       "      <td>310.14</td>\n",
       "      <td>398.41</td>\n",
       "      <td>11.56</td>\n",
       "      <td>32.00</td>\n",
       "      <td>4.08</td>\n",
       "      <td>NO</td>\n",
       "    </tr>\n",
       "  </tbody>\n",
       "</table>\n",
       "</div>"
      ],
      "text/plain": [
       "     pH  Dureza   Sólidos  Cloraminas  Sulfatos  Conductividad  \\\n",
       "0   NaN  204.89  20791.32        7.30    368.52         564.31   \n",
       "1  3.72  129.42  18630.06        6.64       NaN         592.89   \n",
       "2  8.10  224.24  19909.54        9.28       NaN         418.61   \n",
       "3  8.32  214.37  22018.42        8.06    356.89         363.27   \n",
       "4  9.09  181.10  17978.99        6.55    310.14         398.41   \n",
       "\n",
       "   Carbono_orgánico  Trihalometanos  Turbidez Potabilidad  \n",
       "0             10.38           86.99      2.96          NO  \n",
       "1             15.18           56.33      4.50          NO  \n",
       "2             16.87           66.42      3.06          NO  \n",
       "3             18.44          100.34      4.63          NO  \n",
       "4             11.56           32.00      4.08          NO  "
      ]
     },
     "execution_count": 4,
     "metadata": {},
     "output_type": "execute_result"
    }
   ],
   "source": [
    "df = pd.read_csv(r\"datos_etapa2.csv\",sep=',')\n",
    "\n",
    "df.head()"
   ]
  },
  {
   "cell_type": "code",
   "execution_count": 5,
   "metadata": {},
   "outputs": [
    {
     "name": "stdout",
     "output_type": "stream",
     "text": [
      "<class 'pandas.core.frame.DataFrame'>\n",
      "RangeIndex: 3276 entries, 0 to 3275\n",
      "Data columns (total 10 columns):\n",
      " #   Column            Non-Null Count  Dtype  \n",
      "---  ------            --------------  -----  \n",
      " 0   pH                2785 non-null   float64\n",
      " 1   Dureza            3276 non-null   float64\n",
      " 2   Sólidos           3276 non-null   float64\n",
      " 3   Cloraminas        3276 non-null   float64\n",
      " 4   Sulfatos          2495 non-null   float64\n",
      " 5   Conductividad     3276 non-null   float64\n",
      " 6   Carbono_orgánico  3276 non-null   float64\n",
      " 7   Trihalometanos    3114 non-null   float64\n",
      " 8   Turbidez          3276 non-null   float64\n",
      " 9   Potabilidad       3276 non-null   object \n",
      "dtypes: float64(9), object(1)\n",
      "memory usage: 256.1+ KB\n"
     ]
    }
   ],
   "source": [
    "df.info()"
   ]
  },
  {
   "cell_type": "code",
   "execution_count": 6,
   "metadata": {},
   "outputs": [
    {
     "name": "stderr",
     "output_type": "stream",
     "text": [
      "Summarize dataset:   0%|          | 0/5 [00:00<?, ?it/s]Summarize dataset:  71%|███████   | 12/17 [00:00<00:00, 14.27it/s, Calculate auto correlation]       c:\\Python311\\Lib\\site-packages\\ydata_profiling\\model\\pandas\\discretize_pandas.py:52: FutureWarning: In a future version, `df.iloc[:, i] = newvals` will attempt to set the values inplace instead of always setting a new array. To retain the old behavior, use either `df[df.columns[i]] = newvals` or, if columns are non-unique, `df.isetitem(i, newvals)`\n",
      "  discretized_df.loc[:, column] = self._discretize_column(\n",
      "Summarize dataset: 100%|██████████| 101/101 [00:19<00:00,  5.30it/s, Completed]                               \n",
      "Generate report structure: 100%|██████████| 1/1 [00:05<00:00,  5.44s/it]\n",
      "Render HTML: 100%|██████████| 1/1 [00:04<00:00,  4.66s/it]\n",
      "Export report to file: 100%|██████████| 1/1 [00:00<00:00, 53.46it/s]\n"
     ]
    }
   ],
   "source": [
    "prof = ProfileReport(df)\n",
    "prof.to_file(output_file='output.html')"
   ]
  }
 ],
 "metadata": {
  "kernelspec": {
   "display_name": "Python 3 (ipykernel)",
   "language": "python",
   "name": "python3"
  },
  "language_info": {
   "codemirror_mode": {
    "name": "ipython",
    "version": 3
   },
   "file_extension": ".py",
   "mimetype": "text/x-python",
   "name": "python",
   "nbconvert_exporter": "python",
   "pygments_lexer": "ipython3",
   "version": "3.11.0"
  }
 },
 "nbformat": 4,
 "nbformat_minor": 2
}
